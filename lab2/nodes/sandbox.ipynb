{
 "cells": [
  {
   "cell_type": "code",
   "execution_count": 1,
   "metadata": {},
   "outputs": [],
   "source": [
    "import numpy as np\n",
    "import matplotlib.pyplot as plt"
   ]
  },
  {
   "cell_type": "markdown",
   "metadata": {},
   "source": [
    "### task 2.2: `robot_controller`"
   ]
  },
  {
   "cell_type": "code",
   "execution_count": 2,
   "metadata": {},
   "outputs": [],
   "source": [
    "point_i = np.array([[5], [3], [np.pi/8]])\n",
    "point_s = np.array([[5], [3.5]])\n",
    "\n",
    "vel_max = 2\n",
    "rot_vel_max = 0.2\n",
    "\n",
    "timestep = 1\n",
    "num_substeps = 10"
   ]
  },
  {
   "cell_type": "code",
   "execution_count": 3,
   "metadata": {},
   "outputs": [],
   "source": [
    "def trajectory_rollout(origin: np.ndarray, vel: float, rot_vel: float):\n",
    "    # Given your chosen velocities determine the trajectory of the robot for your given timestep\n",
    "    # The returned trajectory should be a series of points to check for collisions\n",
    "    print(\"TO DO: Implement a way to rollout the controls chosen\")\n",
    "\n",
    "\n",
    "    positions = np.zeros((3, num_substeps))\n",
    "    positions[:, 0] = np.reshape(origin, (3,))\n",
    "\n",
    "    for i in range(1, num_substeps):\n",
    "        theta = positions[2, i-1]\n",
    "\n",
    "        R = np.matrix([\n",
    "            [np.cos(theta), -np.sin(theta), 0],\n",
    "            [np.sin(theta), np.cos(theta), 0],\n",
    "            [0, 0, 1]\n",
    "        ])\n",
    "\n",
    "        q_dot = R @ np.array([[vel, 0, rot_vel]]).T\n",
    "            \n",
    "        positions[:, i] = positions[:, i-1] + np.reshape(q_dot * timestep, (3,))\n",
    "\n",
    "    # return np.zeros((3, self.num_substeps))\n",
    "    return positions"
   ]
  },
  {
   "cell_type": "code",
   "execution_count": 4,
   "metadata": {},
   "outputs": [],
   "source": [
    "def robot_controller(point_i, point_s):\n",
    "    R = np.array([\n",
    "        [0, 1],\n",
    "        [-1, 0]\n",
    "    ])\n",
    "\n",
    "    theta_s = np.arctan2(point_s[1, 0] - point_i[1, 0], point_s[0, 0] - point_i[0, 0])\n",
    "    # dtheta = theta_s - node_i.point[2, 0]\n",
    "    dtheta = theta_s - point_i[2, 0]\n",
    "    dtheta = np.arctan2(np.sin(dtheta), np.cos(dtheta))\n",
    "\n",
    "    # pi = node_i.point[0:2, 0]\n",
    "    pi = point_i[0:2]\n",
    "    ps = np.array(point_s)\n",
    "\n",
    "    direction = -1 if dtheta < 0 else 1\n",
    "    Rd = R if dtheta < 0 else R.T \n",
    "    Rn = R if dtheta < 0 and dtheta > -np.pi/2 or dtheta > np.pi/2 and dtheta < np.pi else R.T \n",
    "\n",
    "    d = Rd @ np.array([[np.cos(point_i[2, 0]), np.sin(point_i[2, 0])]]).T\n",
    "    l = ps - pi\n",
    "    m = pi + l/2\n",
    "    n = Rn @ l\n",
    "\n",
    "    # solve for circle\n",
    "    coeffs = np.linalg.inv(np.hstack([d, -n])) @ (m-pi)\n",
    "    c = pi + coeffs[0] * d\n",
    "    r = np.linalg.norm(c - pi)\n",
    "\n",
    "    arc_angle = 2 * np.arccos(np.dot(d[:,0], n[:,0]) / np.linalg.norm(d) / np.linalg.norm(n))\n",
    "    s = r * arc_angle \n",
    "\n",
    "    # speeds\n",
    "    v = vel_max\n",
    "    w = direction * arc_angle * v / s \n",
    "\n",
    "    max_retry = 10\n",
    "    i = 0\n",
    "    while w > rot_vel_max and i < max_retry:\n",
    "        v = v * rot_vel_max / w \n",
    "        w = arc_angle * v / s \n",
    "        i += 1\n",
    "\n",
    "    return v, w"
   ]
  },
  {
   "cell_type": "code",
   "execution_count": 5,
   "metadata": {},
   "outputs": [],
   "source": [
    "def simulate_trajectory(node_i, point_s):\n",
    "    #Simulates the non-holonomic motion of the robot.\n",
    "    #This function drives the robot from node_i towards point_s. This function does has many solutions!\n",
    "    #node_i is a 3 by 1 vector [x;y;theta] this can be used to construct the SE(2) matrix T_{OI} in course notation\n",
    "    #point_s is the sampled point vector [x; y]\n",
    "    print(\"TO DO: Implment a method to simulate a trajectory given a sampled point\")\n",
    "    vel, rot_vel = robot_controller(node_i, point_s)\n",
    "\n",
    "    robot_traj = trajectory_rollout(node_i, vel, rot_vel)\n",
    "    return robot_traj"
   ]
  },
  {
   "cell_type": "code",
   "execution_count": 6,
   "metadata": {},
   "outputs": [],
   "source": [
    "point_i = np.array([[4.2], [3], [np.pi/8 * 7]])\n",
    "point_s = np.array([[4], [2]])"
   ]
  },
  {
   "cell_type": "code",
   "execution_count": 7,
   "metadata": {},
   "outputs": [],
   "source": [
    "R = np.array([\n",
    "    [0, 1],\n",
    "    [-1, 0]\n",
    "])\n",
    "\n",
    "theta_s = np.arctan2(point_s[1, 0] - point_i[1, 0], point_s[0, 0] - point_i[0, 0])\n",
    "# dtheta = theta_s - node_i.point[2, 0]\n",
    "dtheta = theta_s - point_i[2, 0]\n",
    "dtheta = np.arctan2(np.sin(dtheta), np.cos(dtheta))\n",
    "\n",
    "# pi = node_i.point[0:2, 0]\n",
    "pi = point_i[0:2]\n",
    "ps = np.array(point_s)\n",
    "\n",
    "direction = -1 if dtheta < 0 else 1\n",
    "Rd = R if dtheta < 0 else R.T \n",
    "Rn = R if dtheta < 0 and dtheta > -np.pi/2 or dtheta > np.pi/2 and dtheta < np.pi else R.T \n",
    "\n",
    "d = Rd @ np.array([[np.cos(point_i[2, 0]), np.sin(point_i[2, 0])]]).T\n",
    "l = ps - pi\n",
    "m = pi + l/2\n",
    "n = Rn @ l\n",
    "\n",
    "# solve for circle\n",
    "coeffs = np.linalg.inv(np.hstack([d, -n])) @ (m-pi)\n",
    "c = pi + coeffs[0] * d\n",
    "r = np.linalg.norm(c - pi)\n",
    "\n",
    "arc_angle = 2 * np.arccos(np.dot(d[:,0], n[:,0]) / np.linalg.norm(d) / np.linalg.norm(n))\n",
    "s = r * arc_angle \n",
    "\n",
    "# speeds\n",
    "v = vel_max / 2 \n",
    "w = direction * arc_angle * v / s "
   ]
  },
  {
   "cell_type": "code",
   "execution_count": 8,
   "metadata": {},
   "outputs": [
    {
     "name": "stdout",
     "output_type": "stream",
     "text": [
      "TO DO: Implment a method to simulate a trajectory given a sampled point\n",
      "TO DO: Implement a way to rollout the controls chosen\n"
     ]
    }
   ],
   "source": [
    "traj = (simulate_trajectory(point_i, point_s))"
   ]
  },
  {
   "cell_type": "code",
   "execution_count": 9,
   "metadata": {},
   "outputs": [
    {
     "data": {
      "text/plain": [
       "array([[-0.38268343],\n",
       "       [-0.92387953]])"
      ]
     },
     "execution_count": 9,
     "metadata": {},
     "output_type": "execute_result"
    }
   ],
   "source": [
    "d"
   ]
  },
  {
   "cell_type": "code",
   "execution_count": 10,
   "metadata": {},
   "outputs": [
    {
     "data": {
      "text/plain": [
       "(3.413600599293089, 4.237447590509853, 1.9470154430707796, 3.1126756955136297)"
      ]
     },
     "execution_count": 10,
     "metadata": {},
     "output_type": "execute_result"
    },
    {
     "data": {
      "image/png": "[encoded data removed]",
      "text/plain": [
       "<Figure size 640x480 with 1 Axes>"
      ]
     },
     "metadata": {},
     "output_type": "display_data"
    }
   ],
   "source": [
    "fig, ax = plt.subplots()\n",
    "\n",
    "plt.scatter(point_i[0], point_i[1], c='b')\n",
    "plt.scatter(point_s[0], point_s[1], c='g')\n",
    "plt.scatter(*m, c='r')\n",
    "plt.scatter(*c, c='black')\n",
    "\n",
    "scale = 3\n",
    "\n",
    "plt.quiver(*point_i[0:2], np.cos(point_i[2]), np.sin(point_i[2]), color='b', scale=scale) # heading\n",
    "plt.quiver(*point_i[0:2], *l, color='y', scale=scale)    # l\n",
    "plt.quiver(*m, *np.array(n), color='magenta', scale=5) # n\n",
    "plt.quiver(*point_i[0:2], *np.array(d), color='r', scale=15)   # d\n",
    "\n",
    "lines = np.hstack([pi, c, ps])\n",
    "plt.plot(*lines)\n",
    "\n",
    "plt.quiver(traj[0], traj[1], np.cos(traj[2]), np.sin(traj[2]), color='y')\n",
    "\n",
    "ax.axis('equal')"
   ]
  },
  {
   "cell_type": "code",
   "execution_count": 11,
   "metadata": {},
   "outputs": [
    {
     "data": {
      "text/plain": [
       "101.19006752597979"
      ]
     },
     "execution_count": 11,
     "metadata": {},
     "output_type": "execute_result"
    }
   ],
   "source": [
    "np.rad2deg(dtheta)"
   ]
  },
  {
   "cell_type": "code",
   "execution_count": 12,
   "metadata": {},
   "outputs": [
    {
     "data": {
      "text/plain": [
       "array([4])"
      ]
     },
     "execution_count": 12,
     "metadata": {},
     "output_type": "execute_result"
    }
   ],
   "source": [
    "point_s[0]"
   ]
  },
  {
   "cell_type": "code",
   "execution_count": 13,
   "metadata": {},
   "outputs": [
    {
     "data": {
      "text/plain": [
       "array([[-0.38268343],\n",
       "       [-0.92387953]])"
      ]
     },
     "execution_count": 13,
     "metadata": {},
     "output_type": "execute_result"
    }
   ],
   "source": [
    "d"
   ]
  }
 ],
 "metadata": {
  "kernelspec": {
   "display_name": "Python 3",
   "language": "python",
   "name": "python3"
  },
  "language_info": {
   "codemirror_mode": {
    "name": "ipython",
    "version": 3
   },
   "file_extension": ".py",
   "mimetype": "text/x-python",
   "name": "python",
   "nbconvert_exporter": "python",
   "pygments_lexer": "ipython3",
   "version": "3.8.10"
  }
 },
 "nbformat": 4,
 "nbformat_minor": 2
}
